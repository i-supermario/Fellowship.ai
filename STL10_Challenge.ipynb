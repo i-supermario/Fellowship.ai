{
  "nbformat": 4,
  "nbformat_minor": 0,
  "metadata": {
    "colab": {
      "name": "STL10_Challenge.ipynb",
      "provenance": [],
      "authorship_tag": "ABX9TyPUoVTY9LAMz8p10djMUU+Z",
      "include_colab_link": true
    },
    "kernelspec": {
      "name": "python3",
      "display_name": "Python 3"
    },
    "language_info": {
      "name": "python"
    },
    "accelerator": "GPU"
  },
  "cells": [
    {
      "cell_type": "markdown",
      "metadata": {
        "id": "view-in-github",
        "colab_type": "text"
      },
      "source": [
        "<a href=\"https://colab.research.google.com/github/i-supermario/Fellowship.ai/blob/main/STL10_Challenge.ipynb\" target=\"_parent\"><img src=\"https://colab.research.google.com/assets/colab-badge.svg\" alt=\"Open In Colab\"/></a>"
      ]
    },
    {
      "cell_type": "code",
      "metadata": {
        "id": "JcYMzRgD9wAR"
      },
      "source": [
        "import torch\n",
        "import torch.nn as nn\n",
        "import torch.optim as optim\n",
        "import torchvision\n",
        "import numpy as np\n",
        "import time\n",
        "import matplotlib.pyplot as plt\n",
        "import os\n",
        "import copy\n",
        "\n",
        "plt.ion()   "
      ],
      "execution_count": 17,
      "outputs": []
    },
    {
      "cell_type": "code",
      "metadata": {
        "id": "tjEDmWNu-4Q5",
        "outputId": "de85db3a-9ccb-44ea-a77b-c066d68bdf1d",
        "colab": {
          "base_uri": "https://localhost:8080/"
        }
      },
      "source": [
        "transforms = torchvision.transforms.Compose([\n",
        "        torchvision.transforms.Resize((272,272)),\n",
        "        torchvision.transforms.RandomRotation(15,),\n",
        "        torchvision.transforms.RandomCrop(256),\n",
        "        torchvision.transforms.RandomHorizontalFlip(),\n",
        "        torchvision.transforms.ToTensor()])\n",
        "dataset = torchvision.datasets.STL10(root=\"/content/STL10\",split='train',transform=transforms,download=True)\n",
        "device = torch.device(\"cuda:0\" if torch.cuda.is_available() else \"cpu\")"
      ],
      "execution_count": 18,
      "outputs": [
        {
          "output_type": "stream",
          "text": [
            "Files already downloaded and verified\n"
          ],
          "name": "stdout"
        }
      ]
    },
    {
      "cell_type": "code",
      "metadata": {
        "id": "R8L0yCn0GJyN"
      },
      "source": [
        "train_set, val_set = torch.utils.data.random_split(dataset, [4000, 1000])\n",
        "image_datasets = {'train': train_set,'val':val_set}"
      ],
      "execution_count": 19,
      "outputs": []
    },
    {
      "cell_type": "code",
      "metadata": {
        "id": "OiqGW2uhJIXH"
      },
      "source": [
        "dataloaders = {x: torch.utils.data.DataLoader(image_datasets[x], batch_size=10,shuffle=True) for x in ['train', 'val']}\n",
        "dataset_sizes = {x: len(image_datasets[x]) for x in ['train', 'val']}"
      ],
      "execution_count": 21,
      "outputs": []
    },
    {
      "cell_type": "code",
      "metadata": {
        "id": "9uLoIKFqKwUY"
      },
      "source": [
        "def train_model(model, criterion, optimizer, scheduler, num_epochs=25):\n",
        "  since = time.time()\n",
        "\n",
        "  best_model_wts = copy.deepcopy(model.state_dict())\n",
        "  best_acc = 0.0\n",
        "  for epoch in range(num_epochs):\n",
        "    print('Epoch {}/{}'.format(epoch, num_epochs - 1))\n",
        "    print('-' * 10)\n",
        "    for phase in ['train','val']:\n",
        "      if phase == 'train':\n",
        "        model.train()  # Set model to training mode\n",
        "      else:\n",
        "        model.eval()   # Set model to evaluate mode\n",
        "\n",
        "      running_loss = 0.0\n",
        "      running_corrects = 0\n",
        "      for inputs, labels in dataloaders[phase]:\n",
        "        inputs = inputs.to(device)\n",
        "        labels = labels.to(device)\n",
        "\n",
        "        optimizer.zero_grad()\n",
        "\n",
        "        with torch.set_grad_enabled(phase=='train'):\n",
        "          outputs = model(inputs)\n",
        "          _, preds = torch.max(outputs, 1)\n",
        "          loss = criterion(outputs, labels)\n",
        "          if phase == 'train':\n",
        "            loss.backward()              \n",
        "            optimizer.step()\n",
        "        \n",
        "\n",
        "        running_loss += loss.item() * inputs.size(0)\n",
        "        running_corrects += torch.sum(preds == labels.data)\n",
        "      if phase == 'train':\n",
        "        scheduler.step()\n",
        "\n",
        "      epoch_loss = running_loss / dataset_sizes[phase]\n",
        "      epoch_acc = running_corrects.double() / dataset_sizes[phase]\n",
        "\n",
        "      print('{} Loss: {:.4f} Acc: {:.4f}'.format(phase, epoch_loss, epoch_acc))\n",
        "\n",
        "      if phase == 'val' and epoch_acc > best_acc:\n",
        "        best_acc = epoch_acc\n",
        "        best_model_wts = copy.deepcopy(model.state_dict())\n",
        "\n",
        "  time_elapsed = time.time() - since\n",
        "  print('Training complete in {:.0f}m {:.0f}s'.format(time_elapsed // 60, time_elapsed % 60))\n",
        "  print('Best val Acc: {:4f}'.format(best_acc))\n",
        "\n",
        "  # load best model weights\n",
        "  model.load_state_dict(best_model_wts)\n",
        "  return model\n"
      ],
      "execution_count": 22,
      "outputs": []
    },
    {
      "cell_type": "code",
      "metadata": {
        "id": "3ppojMlkS_s2"
      },
      "source": [
        "model_ft = torchvision.models.resnet18(pretrained=True)\n",
        "num_ftrs = model_ft.fc.in_features\n",
        "\n",
        "model_ft.fc = nn.Linear(num_ftrs, len(dataset.classes))\n",
        "\n",
        "model_ft = model_ft.to(device)\n",
        "\n",
        "criterion = nn.CrossEntropyLoss()\n",
        "optimizer_ft = optim.SGD(model_ft.parameters(), lr=0.001, momentum=0.9)\n",
        "exp_lr_scheduler = optim.lr_scheduler.StepLR(optimizer_ft, step_size=7, gamma=0.1)"
      ],
      "execution_count": 24,
      "outputs": []
    },
    {
      "cell_type": "code",
      "metadata": {
        "id": "nLnbH1u4T8k9",
        "outputId": "fc4f2ec1-1a21-4335-8a63-18c4278eae66",
        "colab": {
          "base_uri": "https://localhost:8080/"
        }
      },
      "source": [
        "model_ft = train_model(model_ft, criterion, optimizer_ft, exp_lr_scheduler,num_epochs=25)"
      ],
      "execution_count": 25,
      "outputs": [
        {
          "output_type": "stream",
          "text": [
            "Epoch 0/24\n",
            "----------\n",
            "train Loss: 0.6804 Acc: 0.7835\n",
            "val Loss: 0.2623 Acc: 0.9140\n",
            "Epoch 1/24\n",
            "----------\n",
            "train Loss: 0.2989 Acc: 0.9020\n",
            "val Loss: 0.2458 Acc: 0.9130\n",
            "Epoch 2/24\n",
            "----------\n",
            "train Loss: 0.2262 Acc: 0.9297\n",
            "val Loss: 0.1779 Acc: 0.9400\n",
            "Epoch 3/24\n",
            "----------\n",
            "train Loss: 0.1638 Acc: 0.9483\n",
            "val Loss: 0.1683 Acc: 0.9380\n",
            "Epoch 4/24\n",
            "----------\n",
            "train Loss: 0.1349 Acc: 0.9567\n",
            "val Loss: 0.2016 Acc: 0.9360\n",
            "Epoch 5/24\n",
            "----------\n",
            "train Loss: 0.1106 Acc: 0.9655\n",
            "val Loss: 0.1826 Acc: 0.9350\n",
            "Epoch 6/24\n",
            "----------\n",
            "train Loss: 0.0956 Acc: 0.9713\n",
            "val Loss: 0.2122 Acc: 0.9360\n",
            "Epoch 7/24\n",
            "----------\n",
            "train Loss: 0.0669 Acc: 0.9815\n",
            "val Loss: 0.1405 Acc: 0.9560\n",
            "Epoch 8/24\n",
            "----------\n",
            "train Loss: 0.0543 Acc: 0.9833\n",
            "val Loss: 0.1544 Acc: 0.9450\n",
            "Epoch 9/24\n",
            "----------\n",
            "train Loss: 0.0505 Acc: 0.9895\n",
            "val Loss: 0.1373 Acc: 0.9540\n",
            "Epoch 10/24\n",
            "----------\n",
            "train Loss: 0.0463 Acc: 0.9888\n",
            "val Loss: 0.1240 Acc: 0.9570\n",
            "Epoch 11/24\n",
            "----------\n",
            "train Loss: 0.0444 Acc: 0.9898\n",
            "val Loss: 0.1340 Acc: 0.9580\n",
            "Epoch 12/24\n",
            "----------\n",
            "train Loss: 0.0446 Acc: 0.9895\n",
            "val Loss: 0.1227 Acc: 0.9580\n",
            "Epoch 13/24\n",
            "----------\n",
            "train Loss: 0.0411 Acc: 0.9873\n",
            "val Loss: 0.1348 Acc: 0.9590\n",
            "Epoch 14/24\n",
            "----------\n",
            "train Loss: 0.0411 Acc: 0.9885\n",
            "val Loss: 0.1261 Acc: 0.9580\n",
            "Epoch 15/24\n",
            "----------\n",
            "train Loss: 0.0373 Acc: 0.9913\n",
            "val Loss: 0.1358 Acc: 0.9540\n",
            "Epoch 16/24\n",
            "----------\n",
            "train Loss: 0.0448 Acc: 0.9870\n",
            "val Loss: 0.1288 Acc: 0.9590\n",
            "Epoch 17/24\n",
            "----------\n",
            "train Loss: 0.0408 Acc: 0.9893\n",
            "val Loss: 0.1333 Acc: 0.9570\n",
            "Epoch 18/24\n",
            "----------\n",
            "train Loss: 0.0315 Acc: 0.9935\n",
            "val Loss: 0.1344 Acc: 0.9540\n",
            "Epoch 19/24\n",
            "----------\n",
            "train Loss: 0.0390 Acc: 0.9908\n",
            "val Loss: 0.1247 Acc: 0.9570\n",
            "Epoch 20/24\n",
            "----------\n",
            "train Loss: 0.0417 Acc: 0.9893\n",
            "val Loss: 0.1223 Acc: 0.9570\n",
            "Epoch 21/24\n",
            "----------\n",
            "train Loss: 0.0332 Acc: 0.9950\n",
            "val Loss: 0.1228 Acc: 0.9610\n",
            "Epoch 22/24\n",
            "----------\n",
            "train Loss: 0.0418 Acc: 0.9888\n",
            "val Loss: 0.1130 Acc: 0.9650\n",
            "Epoch 23/24\n",
            "----------\n",
            "train Loss: 0.0413 Acc: 0.9888\n",
            "val Loss: 0.1113 Acc: 0.9620\n",
            "Epoch 24/24\n",
            "----------\n",
            "train Loss: 0.0390 Acc: 0.9908\n",
            "val Loss: 0.1328 Acc: 0.9530\n",
            "Training complete in 11m 58s\n",
            "Best val Acc: 0.965000\n"
          ],
          "name": "stdout"
        }
      ]
    },
    {
      "cell_type": "code",
      "metadata": {
        "id": "ZLhyhZaUjhOb",
        "outputId": "f794d69e-2432-42de-ee1c-8f6fb5efc137",
        "colab": {
          "base_uri": "https://localhost:8080/"
        }
      },
      "source": [
        "testdata = torchvision.datasets.STL10(root=\"/content/STL10\",split='test',transform=transforms,download=True)\n",
        "testloader = torch.utils.data.DataLoader(testdata, batch_size=10,shuffle=True)\n",
        "\n",
        "model_ft.eval()\n",
        "running_loss = 0.0\n",
        "running_corrects = 0\n",
        "for inputs, labels in testloader:\n",
        "  inputs = inputs.to(device)\n",
        "  labels = labels.to(device)\n",
        "\n",
        "  with torch.set_grad_enabled(False):\n",
        "    outputs = model_ft(inputs)\n",
        "    _, preds = torch.max(outputs, 1)\n",
        "    loss = criterion(outputs, labels)\n",
        "  \n",
        "  running_loss += loss.item() * inputs.size(0)\n",
        "  running_corrects += torch.sum(preds == labels.data)\n",
        "\n",
        "avg_loss = running_loss / len(testdata)\n",
        "avg_acc = running_corrects.double() / len(testdata)\n",
        "          \n",
        "print('Loss: {:.4f} Acc: {:.4f}'.format(avg_loss, avg_acc))"
      ],
      "execution_count": 29,
      "outputs": [
        {
          "output_type": "stream",
          "text": [
            "Files already downloaded and verified\n",
            "Loss: 0.1416 Acc: 0.9535\n"
          ],
          "name": "stdout"
        }
      ]
    }
  ]
}